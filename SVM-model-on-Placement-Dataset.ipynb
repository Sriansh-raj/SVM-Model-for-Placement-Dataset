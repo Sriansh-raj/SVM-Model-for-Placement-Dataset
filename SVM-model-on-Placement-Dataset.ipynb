{
 "cells": [
  {
   "cell_type": "code",
   "execution_count": 1,
   "id": "4dfb6ed5",
   "metadata": {},
   "outputs": [
    {
     "name": "stdout",
     "output_type": "stream",
     "text": [
      "(100, 4)\n"
     ]
    }
   ],
   "source": [
    "import pandas as pd\n",
    "df = pd.read_csv('placement-dataset.csv')\n",
    "print(df.shape)"
   ]
  },
  {
   "cell_type": "code",
   "execution_count": 2,
   "id": "35182fd7",
   "metadata": {},
   "outputs": [
    {
     "name": "stdout",
     "output_type": "stream",
     "text": [
      "<class 'pandas.core.frame.DataFrame'>\n",
      "RangeIndex: 100 entries, 0 to 99\n",
      "Data columns (total 4 columns):\n",
      " #   Column     Non-Null Count  Dtype  \n",
      "---  ------     --------------  -----  \n",
      " 0   city       100 non-null    object \n",
      " 1   cgpa       92 non-null     float64\n",
      " 2   iq         96 non-null     float64\n",
      " 3   placement  100 non-null    int64  \n",
      "dtypes: float64(2), int64(1), object(1)\n",
      "memory usage: 3.2+ KB\n"
     ]
    }
   ],
   "source": [
    "df.info()"
   ]
  },
  {
   "cell_type": "code",
   "execution_count": 3,
   "id": "663a0291",
   "metadata": {},
   "outputs": [
    {
     "data": {
      "text/plain": [
       "<bound method NDFrame.describe of            city  cgpa     iq  placement\n",
       "0      New York   6.8  123.0          1\n",
       "1   Los Angeles   5.9  106.0          0\n",
       "2       Chicago   NaN  121.0          0\n",
       "3      New York   7.4  132.0          1\n",
       "4   Los Angeles   5.8  142.0          0\n",
       "..          ...   ...    ...        ...\n",
       "95      Chicago   4.3  200.0          0\n",
       "96     New York   4.4   42.0          0\n",
       "97  Los Angeles   6.7  182.0          1\n",
       "98      Chicago   6.3  103.0          1\n",
       "99     New York   6.2  113.0          1\n",
       "\n",
       "[100 rows x 4 columns]>"
      ]
     },
     "execution_count": 3,
     "metadata": {},
     "output_type": "execute_result"
    }
   ],
   "source": [
    "df.describe"
   ]
  },
  {
   "cell_type": "code",
   "execution_count": 4,
   "id": "e1359a9f",
   "metadata": {},
   "outputs": [
    {
     "data": {
      "text/html": [
       "<div>\n",
       "<style scoped>\n",
       "    .dataframe tbody tr th:only-of-type {\n",
       "        vertical-align: middle;\n",
       "    }\n",
       "\n",
       "    .dataframe tbody tr th {\n",
       "        vertical-align: top;\n",
       "    }\n",
       "\n",
       "    .dataframe thead th {\n",
       "        text-align: right;\n",
       "    }\n",
       "</style>\n",
       "<table border=\"1\" class=\"dataframe\">\n",
       "  <thead>\n",
       "    <tr style=\"text-align: right;\">\n",
       "      <th></th>\n",
       "      <th>city</th>\n",
       "      <th>cgpa</th>\n",
       "      <th>iq</th>\n",
       "      <th>placement</th>\n",
       "    </tr>\n",
       "  </thead>\n",
       "  <tbody>\n",
       "    <tr>\n",
       "      <th>97</th>\n",
       "      <td>Los Angeles</td>\n",
       "      <td>6.7</td>\n",
       "      <td>182.0</td>\n",
       "      <td>1</td>\n",
       "    </tr>\n",
       "    <tr>\n",
       "      <th>98</th>\n",
       "      <td>Chicago</td>\n",
       "      <td>6.3</td>\n",
       "      <td>103.0</td>\n",
       "      <td>1</td>\n",
       "    </tr>\n",
       "    <tr>\n",
       "      <th>99</th>\n",
       "      <td>New York</td>\n",
       "      <td>6.2</td>\n",
       "      <td>113.0</td>\n",
       "      <td>1</td>\n",
       "    </tr>\n",
       "  </tbody>\n",
       "</table>\n",
       "</div>"
      ],
      "text/plain": [
       "           city  cgpa     iq  placement\n",
       "97  Los Angeles   6.7  182.0          1\n",
       "98      Chicago   6.3  103.0          1\n",
       "99     New York   6.2  113.0          1"
      ]
     },
     "execution_count": 4,
     "metadata": {},
     "output_type": "execute_result"
    }
   ],
   "source": [
    "df.tail(3)"
   ]
  },
  {
   "cell_type": "code",
   "execution_count": 5,
   "id": "b0edd236",
   "metadata": {},
   "outputs": [
    {
     "data": {
      "text/html": [
       "<div>\n",
       "<style scoped>\n",
       "    .dataframe tbody tr th:only-of-type {\n",
       "        vertical-align: middle;\n",
       "    }\n",
       "\n",
       "    .dataframe tbody tr th {\n",
       "        vertical-align: top;\n",
       "    }\n",
       "\n",
       "    .dataframe thead th {\n",
       "        text-align: right;\n",
       "    }\n",
       "</style>\n",
       "<table border=\"1\" class=\"dataframe\">\n",
       "  <thead>\n",
       "    <tr style=\"text-align: right;\">\n",
       "      <th></th>\n",
       "      <th>city</th>\n",
       "      <th>cgpa</th>\n",
       "      <th>iq</th>\n",
       "      <th>placement</th>\n",
       "    </tr>\n",
       "  </thead>\n",
       "  <tbody>\n",
       "    <tr>\n",
       "      <th>count</th>\n",
       "      <td>100</td>\n",
       "      <td>92.000000</td>\n",
       "      <td>96.000000</td>\n",
       "      <td>100.000000</td>\n",
       "    </tr>\n",
       "    <tr>\n",
       "      <th>unique</th>\n",
       "      <td>3</td>\n",
       "      <td>NaN</td>\n",
       "      <td>NaN</td>\n",
       "      <td>NaN</td>\n",
       "    </tr>\n",
       "    <tr>\n",
       "      <th>top</th>\n",
       "      <td>New York</td>\n",
       "      <td>NaN</td>\n",
       "      <td>NaN</td>\n",
       "      <td>NaN</td>\n",
       "    </tr>\n",
       "    <tr>\n",
       "      <th>freq</th>\n",
       "      <td>34</td>\n",
       "      <td>NaN</td>\n",
       "      <td>NaN</td>\n",
       "      <td>NaN</td>\n",
       "    </tr>\n",
       "    <tr>\n",
       "      <th>mean</th>\n",
       "      <td>NaN</td>\n",
       "      <td>5.965217</td>\n",
       "      <td>117.916667</td>\n",
       "      <td>0.460000</td>\n",
       "    </tr>\n",
       "    <tr>\n",
       "      <th>std</th>\n",
       "      <td>NaN</td>\n",
       "      <td>1.164911</td>\n",
       "      <td>46.913508</td>\n",
       "      <td>0.500908</td>\n",
       "    </tr>\n",
       "    <tr>\n",
       "      <th>min</th>\n",
       "      <td>NaN</td>\n",
       "      <td>3.300000</td>\n",
       "      <td>1.000000</td>\n",
       "      <td>0.000000</td>\n",
       "    </tr>\n",
       "    <tr>\n",
       "      <th>25%</th>\n",
       "      <td>NaN</td>\n",
       "      <td>5.000000</td>\n",
       "      <td>90.000000</td>\n",
       "      <td>0.000000</td>\n",
       "    </tr>\n",
       "    <tr>\n",
       "      <th>50%</th>\n",
       "      <td>NaN</td>\n",
       "      <td>6.000000</td>\n",
       "      <td>122.000000</td>\n",
       "      <td>0.000000</td>\n",
       "    </tr>\n",
       "    <tr>\n",
       "      <th>75%</th>\n",
       "      <td>NaN</td>\n",
       "      <td>6.825000</td>\n",
       "      <td>146.750000</td>\n",
       "      <td>1.000000</td>\n",
       "    </tr>\n",
       "    <tr>\n",
       "      <th>max</th>\n",
       "      <td>NaN</td>\n",
       "      <td>8.500000</td>\n",
       "      <td>233.000000</td>\n",
       "      <td>1.000000</td>\n",
       "    </tr>\n",
       "  </tbody>\n",
       "</table>\n",
       "</div>"
      ],
      "text/plain": [
       "            city       cgpa          iq   placement\n",
       "count        100  92.000000   96.000000  100.000000\n",
       "unique         3        NaN         NaN         NaN\n",
       "top     New York        NaN         NaN         NaN\n",
       "freq          34        NaN         NaN         NaN\n",
       "mean         NaN   5.965217  117.916667    0.460000\n",
       "std          NaN   1.164911   46.913508    0.500908\n",
       "min          NaN   3.300000    1.000000    0.000000\n",
       "25%          NaN   5.000000   90.000000    0.000000\n",
       "50%          NaN   6.000000  122.000000    0.000000\n",
       "75%          NaN   6.825000  146.750000    1.000000\n",
       "max          NaN   8.500000  233.000000    1.000000"
      ]
     },
     "execution_count": 5,
     "metadata": {},
     "output_type": "execute_result"
    }
   ],
   "source": [
    "df.describe(include='all')"
   ]
  },
  {
   "cell_type": "code",
   "execution_count": 8,
   "id": "f0336a34",
   "metadata": {},
   "outputs": [
    {
     "data": {
      "text/html": [
       "<style type=\"text/css\">\n",
       "#T_fdba4_row0_col1, #T_fdba4_row0_col3, #T_fdba4_row10_col2 {\n",
       "  background-color: #008000;\n",
       "  color: #f1f1f1;\n",
       "}\n",
       "#T_fdba4_row0_col2 {\n",
       "  background-color: #006397;\n",
       "  color: #f1f1f1;\n",
       "}\n",
       "#T_fdba4_row1_col1, #T_fdba4_row1_col2, #T_fdba4_row1_col3, #T_fdba4_row2_col1, #T_fdba4_row2_col2, #T_fdba4_row2_col3, #T_fdba4_row3_col1, #T_fdba4_row3_col2, #T_fdba4_row3_col3 {\n",
       "  background-color: #000000;\n",
       "  color: #f1f1f1;\n",
       "}\n",
       "#T_fdba4_row4_col1, #T_fdba4_row8_col1 {\n",
       "  background-color: #d8ebf2;\n",
       "  color: #000000;\n",
       "}\n",
       "#T_fdba4_row4_col2 {\n",
       "  background-color: #003e7e;\n",
       "  color: #f1f1f1;\n",
       "}\n",
       "#T_fdba4_row4_col3, #T_fdba4_row5_col3 {\n",
       "  background-color: #fcfefe;\n",
       "  color: #000000;\n",
       "}\n",
       "#T_fdba4_row5_col1, #T_fdba4_row6_col2, #T_fdba4_row6_col3, #T_fdba4_row7_col3, #T_fdba4_row8_col3 {\n",
       "  background-color: #ffffff;\n",
       "  color: #000000;\n",
       "}\n",
       "#T_fdba4_row5_col2 {\n",
       "  background-color: #69b4cd;\n",
       "  color: #f1f1f1;\n",
       "}\n",
       "#T_fdba4_row6_col1 {\n",
       "  background-color: #edf6f9;\n",
       "  color: #000000;\n",
       "}\n",
       "#T_fdba4_row7_col1 {\n",
       "  background-color: #e1f0f5;\n",
       "  color: #000000;\n",
       "}\n",
       "#T_fdba4_row7_col2 {\n",
       "  background-color: #006c9d;\n",
       "  color: #f1f1f1;\n",
       "}\n",
       "#T_fdba4_row8_col2 {\n",
       "  background-color: #00377a;\n",
       "  color: #f1f1f1;\n",
       "}\n",
       "#T_fdba4_row9_col1 {\n",
       "  background-color: #d2e8f0;\n",
       "  color: #000000;\n",
       "}\n",
       "#T_fdba4_row9_col2 {\n",
       "  background-color: #000f5f;\n",
       "  color: #f1f1f1;\n",
       "}\n",
       "#T_fdba4_row9_col3, #T_fdba4_row10_col3 {\n",
       "  background-color: #f9fcfd;\n",
       "  color: #000000;\n",
       "}\n",
       "#T_fdba4_row10_col1 {\n",
       "  background-color: #c3e1eb;\n",
       "  color: #000000;\n",
       "}\n",
       "</style>\n",
       "<table id=\"T_fdba4\">\n",
       "  <thead>\n",
       "    <tr>\n",
       "      <th class=\"blank level0\" >&nbsp;</th>\n",
       "      <th id=\"T_fdba4_level0_col0\" class=\"col_heading level0 col0\" >city</th>\n",
       "      <th id=\"T_fdba4_level0_col1\" class=\"col_heading level0 col1\" >cgpa</th>\n",
       "      <th id=\"T_fdba4_level0_col2\" class=\"col_heading level0 col2\" >iq</th>\n",
       "      <th id=\"T_fdba4_level0_col3\" class=\"col_heading level0 col3\" >placement</th>\n",
       "    </tr>\n",
       "  </thead>\n",
       "  <tbody>\n",
       "    <tr>\n",
       "      <th id=\"T_fdba4_level0_row0\" class=\"row_heading level0 row0\" >count</th>\n",
       "      <td id=\"T_fdba4_row0_col0\" class=\"data row0 col0\" >100</td>\n",
       "      <td id=\"T_fdba4_row0_col1\" class=\"data row0 col1\" >92.000000</td>\n",
       "      <td id=\"T_fdba4_row0_col2\" class=\"data row0 col2\" >96.000000</td>\n",
       "      <td id=\"T_fdba4_row0_col3\" class=\"data row0 col3\" >100.000000</td>\n",
       "    </tr>\n",
       "    <tr>\n",
       "      <th id=\"T_fdba4_level0_row1\" class=\"row_heading level0 row1\" >unique</th>\n",
       "      <td id=\"T_fdba4_row1_col0\" class=\"data row1 col0\" >3</td>\n",
       "      <td id=\"T_fdba4_row1_col1\" class=\"data row1 col1\" >nan</td>\n",
       "      <td id=\"T_fdba4_row1_col2\" class=\"data row1 col2\" >nan</td>\n",
       "      <td id=\"T_fdba4_row1_col3\" class=\"data row1 col3\" >nan</td>\n",
       "    </tr>\n",
       "    <tr>\n",
       "      <th id=\"T_fdba4_level0_row2\" class=\"row_heading level0 row2\" >top</th>\n",
       "      <td id=\"T_fdba4_row2_col0\" class=\"data row2 col0\" >New York</td>\n",
       "      <td id=\"T_fdba4_row2_col1\" class=\"data row2 col1\" >nan</td>\n",
       "      <td id=\"T_fdba4_row2_col2\" class=\"data row2 col2\" >nan</td>\n",
       "      <td id=\"T_fdba4_row2_col3\" class=\"data row2 col3\" >nan</td>\n",
       "    </tr>\n",
       "    <tr>\n",
       "      <th id=\"T_fdba4_level0_row3\" class=\"row_heading level0 row3\" >freq</th>\n",
       "      <td id=\"T_fdba4_row3_col0\" class=\"data row3 col0\" >34</td>\n",
       "      <td id=\"T_fdba4_row3_col1\" class=\"data row3 col1\" >nan</td>\n",
       "      <td id=\"T_fdba4_row3_col2\" class=\"data row3 col2\" >nan</td>\n",
       "      <td id=\"T_fdba4_row3_col3\" class=\"data row3 col3\" >nan</td>\n",
       "    </tr>\n",
       "    <tr>\n",
       "      <th id=\"T_fdba4_level0_row4\" class=\"row_heading level0 row4\" >mean</th>\n",
       "      <td id=\"T_fdba4_row4_col0\" class=\"data row4 col0\" >nan</td>\n",
       "      <td id=\"T_fdba4_row4_col1\" class=\"data row4 col1\" >5.965217</td>\n",
       "      <td id=\"T_fdba4_row4_col2\" class=\"data row4 col2\" >117.916667</td>\n",
       "      <td id=\"T_fdba4_row4_col3\" class=\"data row4 col3\" >0.460000</td>\n",
       "    </tr>\n",
       "    <tr>\n",
       "      <th id=\"T_fdba4_level0_row5\" class=\"row_heading level0 row5\" >std</th>\n",
       "      <td id=\"T_fdba4_row5_col0\" class=\"data row5 col0\" >nan</td>\n",
       "      <td id=\"T_fdba4_row5_col1\" class=\"data row5 col1\" >1.164911</td>\n",
       "      <td id=\"T_fdba4_row5_col2\" class=\"data row5 col2\" >46.913508</td>\n",
       "      <td id=\"T_fdba4_row5_col3\" class=\"data row5 col3\" >0.500908</td>\n",
       "    </tr>\n",
       "    <tr>\n",
       "      <th id=\"T_fdba4_level0_row6\" class=\"row_heading level0 row6\" >min</th>\n",
       "      <td id=\"T_fdba4_row6_col0\" class=\"data row6 col0\" >nan</td>\n",
       "      <td id=\"T_fdba4_row6_col1\" class=\"data row6 col1\" >3.300000</td>\n",
       "      <td id=\"T_fdba4_row6_col2\" class=\"data row6 col2\" >1.000000</td>\n",
       "      <td id=\"T_fdba4_row6_col3\" class=\"data row6 col3\" >0.000000</td>\n",
       "    </tr>\n",
       "    <tr>\n",
       "      <th id=\"T_fdba4_level0_row7\" class=\"row_heading level0 row7\" >25%</th>\n",
       "      <td id=\"T_fdba4_row7_col0\" class=\"data row7 col0\" >nan</td>\n",
       "      <td id=\"T_fdba4_row7_col1\" class=\"data row7 col1\" >5.000000</td>\n",
       "      <td id=\"T_fdba4_row7_col2\" class=\"data row7 col2\" >90.000000</td>\n",
       "      <td id=\"T_fdba4_row7_col3\" class=\"data row7 col3\" >0.000000</td>\n",
       "    </tr>\n",
       "    <tr>\n",
       "      <th id=\"T_fdba4_level0_row8\" class=\"row_heading level0 row8\" >50%</th>\n",
       "      <td id=\"T_fdba4_row8_col0\" class=\"data row8 col0\" >nan</td>\n",
       "      <td id=\"T_fdba4_row8_col1\" class=\"data row8 col1\" >6.000000</td>\n",
       "      <td id=\"T_fdba4_row8_col2\" class=\"data row8 col2\" >122.000000</td>\n",
       "      <td id=\"T_fdba4_row8_col3\" class=\"data row8 col3\" >0.000000</td>\n",
       "    </tr>\n",
       "    <tr>\n",
       "      <th id=\"T_fdba4_level0_row9\" class=\"row_heading level0 row9\" >75%</th>\n",
       "      <td id=\"T_fdba4_row9_col0\" class=\"data row9 col0\" >nan</td>\n",
       "      <td id=\"T_fdba4_row9_col1\" class=\"data row9 col1\" >6.825000</td>\n",
       "      <td id=\"T_fdba4_row9_col2\" class=\"data row9 col2\" >146.750000</td>\n",
       "      <td id=\"T_fdba4_row9_col3\" class=\"data row9 col3\" >1.000000</td>\n",
       "    </tr>\n",
       "    <tr>\n",
       "      <th id=\"T_fdba4_level0_row10\" class=\"row_heading level0 row10\" >max</th>\n",
       "      <td id=\"T_fdba4_row10_col0\" class=\"data row10 col0\" >nan</td>\n",
       "      <td id=\"T_fdba4_row10_col1\" class=\"data row10 col1\" >8.500000</td>\n",
       "      <td id=\"T_fdba4_row10_col2\" class=\"data row10 col2\" >233.000000</td>\n",
       "      <td id=\"T_fdba4_row10_col3\" class=\"data row10 col3\" >1.000000</td>\n",
       "    </tr>\n",
       "  </tbody>\n",
       "</table>\n"
      ],
      "text/plain": [
       "<pandas.io.formats.style.Styler at 0x1de9344c790>"
      ]
     },
     "execution_count": 8,
     "metadata": {},
     "output_type": "execute_result"
    }
   ],
   "source": [
    "df.describe(include='all').style.background_gradient(cmap='ocean_r')"
   ]
  },
  {
   "cell_type": "code",
   "execution_count": 10,
   "id": "996bfb29",
   "metadata": {},
   "outputs": [
    {
     "data": {
      "text/html": [
       "<div>\n",
       "<style scoped>\n",
       "    .dataframe tbody tr th:only-of-type {\n",
       "        vertical-align: middle;\n",
       "    }\n",
       "\n",
       "    .dataframe tbody tr th {\n",
       "        vertical-align: top;\n",
       "    }\n",
       "\n",
       "    .dataframe thead th {\n",
       "        text-align: right;\n",
       "    }\n",
       "</style>\n",
       "<table border=\"1\" class=\"dataframe\">\n",
       "  <thead>\n",
       "    <tr style=\"text-align: right;\">\n",
       "      <th></th>\n",
       "      <th>city</th>\n",
       "      <th>cgpa</th>\n",
       "      <th>iq</th>\n",
       "      <th>placement</th>\n",
       "    </tr>\n",
       "  </thead>\n",
       "  <tbody>\n",
       "    <tr>\n",
       "      <th>0</th>\n",
       "      <td>False</td>\n",
       "      <td>False</td>\n",
       "      <td>False</td>\n",
       "      <td>False</td>\n",
       "    </tr>\n",
       "    <tr>\n",
       "      <th>1</th>\n",
       "      <td>False</td>\n",
       "      <td>False</td>\n",
       "      <td>False</td>\n",
       "      <td>False</td>\n",
       "    </tr>\n",
       "    <tr>\n",
       "      <th>2</th>\n",
       "      <td>False</td>\n",
       "      <td>True</td>\n",
       "      <td>False</td>\n",
       "      <td>False</td>\n",
       "    </tr>\n",
       "    <tr>\n",
       "      <th>3</th>\n",
       "      <td>False</td>\n",
       "      <td>False</td>\n",
       "      <td>False</td>\n",
       "      <td>False</td>\n",
       "    </tr>\n",
       "    <tr>\n",
       "      <th>4</th>\n",
       "      <td>False</td>\n",
       "      <td>False</td>\n",
       "      <td>False</td>\n",
       "      <td>False</td>\n",
       "    </tr>\n",
       "    <tr>\n",
       "      <th>...</th>\n",
       "      <td>...</td>\n",
       "      <td>...</td>\n",
       "      <td>...</td>\n",
       "      <td>...</td>\n",
       "    </tr>\n",
       "    <tr>\n",
       "      <th>95</th>\n",
       "      <td>False</td>\n",
       "      <td>False</td>\n",
       "      <td>False</td>\n",
       "      <td>False</td>\n",
       "    </tr>\n",
       "    <tr>\n",
       "      <th>96</th>\n",
       "      <td>False</td>\n",
       "      <td>False</td>\n",
       "      <td>False</td>\n",
       "      <td>False</td>\n",
       "    </tr>\n",
       "    <tr>\n",
       "      <th>97</th>\n",
       "      <td>False</td>\n",
       "      <td>False</td>\n",
       "      <td>False</td>\n",
       "      <td>False</td>\n",
       "    </tr>\n",
       "    <tr>\n",
       "      <th>98</th>\n",
       "      <td>False</td>\n",
       "      <td>False</td>\n",
       "      <td>False</td>\n",
       "      <td>False</td>\n",
       "    </tr>\n",
       "    <tr>\n",
       "      <th>99</th>\n",
       "      <td>False</td>\n",
       "      <td>False</td>\n",
       "      <td>False</td>\n",
       "      <td>False</td>\n",
       "    </tr>\n",
       "  </tbody>\n",
       "</table>\n",
       "<p>100 rows × 4 columns</p>\n",
       "</div>"
      ],
      "text/plain": [
       "     city   cgpa     iq  placement\n",
       "0   False  False  False      False\n",
       "1   False  False  False      False\n",
       "2   False   True  False      False\n",
       "3   False  False  False      False\n",
       "4   False  False  False      False\n",
       "..    ...    ...    ...        ...\n",
       "95  False  False  False      False\n",
       "96  False  False  False      False\n",
       "97  False  False  False      False\n",
       "98  False  False  False      False\n",
       "99  False  False  False      False\n",
       "\n",
       "[100 rows x 4 columns]"
      ]
     },
     "execution_count": 10,
     "metadata": {},
     "output_type": "execute_result"
    }
   ],
   "source": [
    "df.isnull()"
   ]
  },
  {
   "cell_type": "code",
   "execution_count": 12,
   "id": "eb7fd458",
   "metadata": {},
   "outputs": [
    {
     "data": {
      "text/plain": [
       "city         0\n",
       "cgpa         8\n",
       "iq           4\n",
       "placement    0\n",
       "dtype: int64"
      ]
     },
     "execution_count": 12,
     "metadata": {},
     "output_type": "execute_result"
    }
   ],
   "source": [
    "df.isnull().sum()"
   ]
  },
  {
   "cell_type": "code",
   "execution_count": 20,
   "id": "74429877",
   "metadata": {},
   "outputs": [],
   "source": [
    "df = df.dropna()"
   ]
  },
  {
   "cell_type": "code",
   "execution_count": 21,
   "id": "e5fdce17",
   "metadata": {},
   "outputs": [
    {
     "data": {
      "text/plain": [
       "city         0\n",
       "cgpa         0\n",
       "iq           0\n",
       "placement    0\n",
       "dtype: int64"
      ]
     },
     "execution_count": 21,
     "metadata": {},
     "output_type": "execute_result"
    }
   ],
   "source": [
    "df.isnull().sum()"
   ]
  },
  {
   "cell_type": "code",
   "execution_count": 23,
   "id": "be862080",
   "metadata": {},
   "outputs": [],
   "source": [
    "df = df.drop_duplicates()"
   ]
  },
  {
   "cell_type": "code",
   "execution_count": 24,
   "id": "d39f38b3",
   "metadata": {},
   "outputs": [
    {
     "name": "stdout",
     "output_type": "stream",
     "text": [
      "X_train :      cgpa     iq\n",
      "84   5.7  169.0\n",
      "46   5.3  114.0\n",
      "73   4.9   61.0\n",
      "13   6.4  116.0\n",
      "7    5.0   63.0\n",
      "\n",
      "X_test :      cgpa     iq\n",
      "86   5.1  128.0\n",
      "85   5.8  166.0\n",
      "81   5.4  107.0\n",
      "20   6.6  120.0\n",
      "0    6.8  123.0\n",
      "\n",
      "y_train :  84    0\n",
      "46    0\n",
      "73    0\n",
      "13    1\n",
      "7     0\n",
      "Name: placement, dtype: int64\n",
      "\n",
      "y_test :  86    0\n",
      "85    1\n",
      "81    0\n",
      "20    1\n",
      "0     1\n",
      "Name: placement, dtype: int64\n",
      "\n",
      "\n",
      "\n",
      "(66, 2)\n",
      "(22, 2)\n",
      "(66,)\n",
      "(22,)\n"
     ]
    }
   ],
   "source": [
    "from sklearn.model_selection import train_test_split \n",
    "x = df.loc[:,['cgpa', 'iq']] \n",
    "y = df['placement']\n",
    "x_train, x_test, y_train, y_test = train_test_split(x, y, random_state=104, test_size=0.25)\n",
    "\n",
    "print(\"X_train : \", x_train.head()) \n",
    "print('') \n",
    "print(\"X_test : \", x_test.head()) \n",
    "print('') \n",
    "print(\"y_train : \", y_train.head()) \n",
    "print('') \n",
    "print(\"y_test : \", y_test.head()) \n",
    "print(\"\\n\\n\")\n",
    "print(x_train.shape)\n",
    "print(x_test.shape)\n",
    "print(y_train.shape)\n",
    "print(y_test.shape)"
   ]
  },
  {
   "cell_type": "code",
   "execution_count": 25,
   "id": "4fce6713",
   "metadata": {},
   "outputs": [
    {
     "name": "stderr",
     "output_type": "stream",
     "text": [
      "C:\\Users\\KIIT\\anaconda3\\lib\\site-packages\\sklearn\\svm\\_base.py:1244: ConvergenceWarning: Liblinear failed to converge, increase the number of iterations.\n",
      "  warnings.warn(\n"
     ]
    },
    {
     "data": {
      "text/html": [
       "<style>#sk-container-id-1 {color: black;background-color: white;}#sk-container-id-1 pre{padding: 0;}#sk-container-id-1 div.sk-toggleable {background-color: white;}#sk-container-id-1 label.sk-toggleable__label {cursor: pointer;display: block;width: 100%;margin-bottom: 0;padding: 0.3em;box-sizing: border-box;text-align: center;}#sk-container-id-1 label.sk-toggleable__label-arrow:before {content: \"▸\";float: left;margin-right: 0.25em;color: #696969;}#sk-container-id-1 label.sk-toggleable__label-arrow:hover:before {color: black;}#sk-container-id-1 div.sk-estimator:hover label.sk-toggleable__label-arrow:before {color: black;}#sk-container-id-1 div.sk-toggleable__content {max-height: 0;max-width: 0;overflow: hidden;text-align: left;background-color: #f0f8ff;}#sk-container-id-1 div.sk-toggleable__content pre {margin: 0.2em;color: black;border-radius: 0.25em;background-color: #f0f8ff;}#sk-container-id-1 input.sk-toggleable__control:checked~div.sk-toggleable__content {max-height: 200px;max-width: 100%;overflow: auto;}#sk-container-id-1 input.sk-toggleable__control:checked~label.sk-toggleable__label-arrow:before {content: \"▾\";}#sk-container-id-1 div.sk-estimator input.sk-toggleable__control:checked~label.sk-toggleable__label {background-color: #d4ebff;}#sk-container-id-1 div.sk-label input.sk-toggleable__control:checked~label.sk-toggleable__label {background-color: #d4ebff;}#sk-container-id-1 input.sk-hidden--visually {border: 0;clip: rect(1px 1px 1px 1px);clip: rect(1px, 1px, 1px, 1px);height: 1px;margin: -1px;overflow: hidden;padding: 0;position: absolute;width: 1px;}#sk-container-id-1 div.sk-estimator {font-family: monospace;background-color: #f0f8ff;border: 1px dotted black;border-radius: 0.25em;box-sizing: border-box;margin-bottom: 0.5em;}#sk-container-id-1 div.sk-estimator:hover {background-color: #d4ebff;}#sk-container-id-1 div.sk-parallel-item::after {content: \"\";width: 100%;border-bottom: 1px solid gray;flex-grow: 1;}#sk-container-id-1 div.sk-label:hover label.sk-toggleable__label {background-color: #d4ebff;}#sk-container-id-1 div.sk-serial::before {content: \"\";position: absolute;border-left: 1px solid gray;box-sizing: border-box;top: 0;bottom: 0;left: 50%;z-index: 0;}#sk-container-id-1 div.sk-serial {display: flex;flex-direction: column;align-items: center;background-color: white;padding-right: 0.2em;padding-left: 0.2em;position: relative;}#sk-container-id-1 div.sk-item {position: relative;z-index: 1;}#sk-container-id-1 div.sk-parallel {display: flex;align-items: stretch;justify-content: center;background-color: white;position: relative;}#sk-container-id-1 div.sk-item::before, #sk-container-id-1 div.sk-parallel-item::before {content: \"\";position: absolute;border-left: 1px solid gray;box-sizing: border-box;top: 0;bottom: 0;left: 50%;z-index: -1;}#sk-container-id-1 div.sk-parallel-item {display: flex;flex-direction: column;z-index: 1;position: relative;background-color: white;}#sk-container-id-1 div.sk-parallel-item:first-child::after {align-self: flex-end;width: 50%;}#sk-container-id-1 div.sk-parallel-item:last-child::after {align-self: flex-start;width: 50%;}#sk-container-id-1 div.sk-parallel-item:only-child::after {width: 0;}#sk-container-id-1 div.sk-dashed-wrapped {border: 1px dashed gray;margin: 0 0.4em 0.5em 0.4em;box-sizing: border-box;padding-bottom: 0.4em;background-color: white;}#sk-container-id-1 div.sk-label label {font-family: monospace;font-weight: bold;display: inline-block;line-height: 1.2em;}#sk-container-id-1 div.sk-label-container {text-align: center;}#sk-container-id-1 div.sk-container {/* jupyter's `normalize.less` sets `[hidden] { display: none; }` but bootstrap.min.css set `[hidden] { display: none !important; }` so we also need the `!important` here to be able to override the default hidden behavior on the sphinx rendered scikit-learn.org. See: https://github.com/scikit-learn/scikit-learn/issues/21755 */display: inline-block !important;position: relative;}#sk-container-id-1 div.sk-text-repr-fallback {display: none;}</style><div id=\"sk-container-id-1\" class=\"sk-top-container\"><div class=\"sk-text-repr-fallback\"><pre>LinearSVC()</pre><b>In a Jupyter environment, please rerun this cell to show the HTML representation or trust the notebook. <br />On GitHub, the HTML representation is unable to render, please try loading this page with nbviewer.org.</b></div><div class=\"sk-container\" hidden><div class=\"sk-item\"><div class=\"sk-estimator sk-toggleable\"><input class=\"sk-toggleable__control sk-hidden--visually\" id=\"sk-estimator-id-1\" type=\"checkbox\" checked><label for=\"sk-estimator-id-1\" class=\"sk-toggleable__label sk-toggleable__label-arrow\">LinearSVC</label><div class=\"sk-toggleable__content\"><pre>LinearSVC()</pre></div></div></div></div></div>"
      ],
      "text/plain": [
       "LinearSVC()"
      ]
     },
     "execution_count": 25,
     "metadata": {},
     "output_type": "execute_result"
    }
   ],
   "source": [
    "from sklearn import svm\n",
    "from sklearn.svm import SVC, LinearSVC, NuSVC\n",
    "\n",
    "x = df[['cgpa', 'iq']].values\n",
    "y  = df[['placement']].values\n",
    "\n",
    "clf = svm.LinearSVC()\n",
    "clf.fit(x_train, y_train)"
   ]
  },
  {
   "cell_type": "code",
   "execution_count": 26,
   "id": "130ca103",
   "metadata": {},
   "outputs": [
    {
     "name": "stdout",
     "output_type": "stream",
     "text": [
      "[1 1 1 1 1 1 1 0 1 1 1 1 1 1 1 1 1 1 1 1 1 1]\n"
     ]
    },
    {
     "data": {
      "text/plain": [
       "1.0"
      ]
     },
     "execution_count": 26,
     "metadata": {},
     "output_type": "execute_result"
    }
   ],
   "source": [
    "result = clf.predict(x_test)\n",
    "print(result)\n",
    "clf.score(x_test,result)"
   ]
  },
  {
   "cell_type": "code",
   "execution_count": 27,
   "id": "778b7442",
   "metadata": {},
   "outputs": [
    {
     "name": "stdout",
     "output_type": "stream",
     "text": [
      "[1]\n"
     ]
    },
    {
     "name": "stderr",
     "output_type": "stream",
     "text": [
      "C:\\Users\\KIIT\\anaconda3\\lib\\site-packages\\sklearn\\base.py:420: UserWarning: X does not have valid feature names, but LinearSVC was fitted with feature names\n",
      "  warnings.warn(\n"
     ]
    }
   ],
   "source": [
    "Test = clf.predict([[8.9, 160.3]])\n",
    "print(Test)"
   ]
  },
  {
   "cell_type": "code",
   "execution_count": 28,
   "id": "c14c4b63",
   "metadata": {},
   "outputs": [
    {
     "name": "stdout",
     "output_type": "stream",
     "text": [
      "[[ 1 12]\n",
      " [ 0  9]]\n"
     ]
    }
   ],
   "source": [
    "from sklearn.metrics import confusion_matrix  \n",
    "cm = confusion_matrix(y_test, result)\n",
    "print(cm)"
   ]
  }
 ],
 "metadata": {
  "kernelspec": {
   "display_name": "Python 3 (ipykernel)",
   "language": "python",
   "name": "python3"
  },
  "language_info": {
   "codemirror_mode": {
    "name": "ipython",
    "version": 3
   },
   "file_extension": ".py",
   "mimetype": "text/x-python",
   "name": "python",
   "nbconvert_exporter": "python",
   "pygments_lexer": "ipython3",
   "version": "3.10.9"
  }
 },
 "nbformat": 4,
 "nbformat_minor": 5
}
